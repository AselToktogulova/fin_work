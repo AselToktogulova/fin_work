{
 "cells": [
  {
   "cell_type": "code",
   "execution_count": 1,
   "id": "9607dd11",
   "metadata": {},
   "outputs": [
    {
     "name": "stderr",
     "output_type": "stream",
     "text": [
      "C:\\Users\\icherepa\\Anaconda3\\envs\\fin\\lib\\site-packages\\xgboost\\compat.py:36: FutureWarning: pandas.Int64Index is deprecated and will be removed from pandas in a future version. Use pandas.Index with the appropriate dtype instead.\n",
      "  from pandas import MultiIndex, Int64Index\n"
     ]
    }
   ],
   "source": [
    "from utils_outsourcing import *"
   ]
  },
  {
   "cell_type": "markdown",
   "id": "c67b0776",
   "metadata": {},
   "source": [
    "**in der Auswahlbox können Sie einen Kunden auswählen und seine Daten aus der Datenbank anschauen**"
   ]
  },
  {
   "cell_type": "code",
   "execution_count": 2,
   "id": "1776d76f",
   "metadata": {},
   "outputs": [
    {
     "data": {
      "application/vnd.jupyter.widget-view+json": {
       "model_id": "55300032f2de4e1f8cf909bfa2b467c2",
       "version_major": 2,
       "version_minor": 0
      },
      "text/plain": [
       "Dropdown(options=('Robert Cannon', 'Gladys Garza', 'Devon Briggeman', 'Rebecca Buttrey', 'Leroy Dahlberg', 'Ka…"
      ]
     },
     "metadata": {},
     "output_type": "display_data"
    },
    {
     "data": {
      "text/html": [
       "<div>\n",
       "<style scoped>\n",
       "    .dataframe tbody tr th:only-of-type {\n",
       "        vertical-align: middle;\n",
       "    }\n",
       "\n",
       "    .dataframe tbody tr th {\n",
       "        vertical-align: top;\n",
       "    }\n",
       "\n",
       "    .dataframe thead th {\n",
       "        text-align: right;\n",
       "    }\n",
       "</style>\n",
       "<table border=\"1\" class=\"dataframe\">\n",
       "  <thead>\n",
       "    <tr style=\"text-align: right;\">\n",
       "      <th></th>\n",
       "      <th>Duration in month</th>\n",
       "      <th>Credit amount</th>\n",
       "      <th>Installment rate in percentage of disposable income</th>\n",
       "      <th>Present residence since</th>\n",
       "      <th>Age in years</th>\n",
       "      <th>Number of existing credits at this bank</th>\n",
       "      <th>Number of people being liable to provide maintenance for</th>\n",
       "      <th>Status of existing checking account_0 &lt;= &lt;200 DM</th>\n",
       "      <th>Status of existing checking account_&lt;0 DM</th>\n",
       "      <th>Status of existing checking account_&gt;= 200 DM</th>\n",
       "      <th>Status of existing checking account_no checking account</th>\n",
       "      <th>Credit history_all credits at this bank paid back duly</th>\n",
       "      <th>Credit history_critical account</th>\n",
       "      <th>Credit history_delay in paying off</th>\n",
       "      <th>Credit history_existing credits paid back duly till now</th>\n",
       "      <th>Credit history_no credits taken</th>\n",
       "      <th>Purpose_business</th>\n",
       "      <th>Purpose_car (new)</th>\n",
       "      <th>Purpose_car (used)</th>\n",
       "      <th>Purpose_domestic appliances</th>\n",
       "      <th>Purpose_education</th>\n",
       "      <th>Purpose_furniture/equipment</th>\n",
       "      <th>Purpose_others</th>\n",
       "      <th>Purpose_radio/television</th>\n",
       "      <th>Purpose_repairs</th>\n",
       "      <th>Purpose_retraining</th>\n",
       "      <th>Savings account/bonds_100 &lt;= &lt;500 DM</th>\n",
       "      <th>Savings account/bonds_500 &lt;= &lt; 1000 DM</th>\n",
       "      <th>Savings account/bonds_&lt;100 DM</th>\n",
       "      <th>Savings account/bonds_&gt;= 1000 DM</th>\n",
       "      <th>Savings account/bonds_no savings account</th>\n",
       "      <th>Present employment since_1&lt;= &lt; 4 years</th>\n",
       "      <th>Present employment since_4&lt;= &lt;7 years</th>\n",
       "      <th>Present employment since_&lt;1 years</th>\n",
       "      <th>Present employment since_&gt;=7 years</th>\n",
       "      <th>Present employment since_unemployed</th>\n",
       "      <th>Personal status and sex_female:divorced/separated/married</th>\n",
       "      <th>Personal status and sex_male:divorced/separated</th>\n",
       "      <th>Personal status and sex_male:married/widowed</th>\n",
       "      <th>Personal status and sex_male:single</th>\n",
       "      <th>Other debtors / guarantors_co-applicant</th>\n",
       "      <th>Other debtors / guarantors_guarantor</th>\n",
       "      <th>Other debtors / guarantors_none</th>\n",
       "      <th>Property_car or other</th>\n",
       "      <th>Property_real estate</th>\n",
       "      <th>Property_savings agreement/life insurance</th>\n",
       "      <th>Property_unknown / no property</th>\n",
       "      <th>Other installment plans_bank</th>\n",
       "      <th>Other installment plans_none</th>\n",
       "      <th>Other installment plans_store</th>\n",
       "      <th>Housing_for free</th>\n",
       "      <th>Housing_own</th>\n",
       "      <th>Housing_rent</th>\n",
       "      <th>Job_management/ highly qualified employee</th>\n",
       "      <th>Job_skilled employee / official</th>\n",
       "      <th>Job_unemployed/ unskilled  - non-resident</th>\n",
       "      <th>Job_unskilled - resident</th>\n",
       "      <th>Telephone_none</th>\n",
       "      <th>Telephone_yes</th>\n",
       "      <th>foreign worker_no</th>\n",
       "      <th>foreign worker_yes</th>\n",
       "      <th>Cost Matrix(Risk)_Bad Risk</th>\n",
       "      <th>Cost Matrix(Risk)_Good Risk</th>\n",
       "    </tr>\n",
       "  </thead>\n",
       "  <tbody>\n",
       "    <tr>\n",
       "      <th>9</th>\n",
       "      <td>30</td>\n",
       "      <td>5234</td>\n",
       "      <td>4</td>\n",
       "      <td>2</td>\n",
       "      <td>28</td>\n",
       "      <td>2</td>\n",
       "      <td>1</td>\n",
       "      <td>1.0</td>\n",
       "      <td>0.0</td>\n",
       "      <td>0.0</td>\n",
       "      <td>0.0</td>\n",
       "      <td>0.0</td>\n",
       "      <td>1.0</td>\n",
       "      <td>0.0</td>\n",
       "      <td>0.0</td>\n",
       "      <td>0.0</td>\n",
       "      <td>0.0</td>\n",
       "      <td>1.0</td>\n",
       "      <td>0.0</td>\n",
       "      <td>0.0</td>\n",
       "      <td>0.0</td>\n",
       "      <td>0.0</td>\n",
       "      <td>0.0</td>\n",
       "      <td>0.0</td>\n",
       "      <td>0.0</td>\n",
       "      <td>0.0</td>\n",
       "      <td>0.0</td>\n",
       "      <td>0.0</td>\n",
       "      <td>1.0</td>\n",
       "      <td>0.0</td>\n",
       "      <td>0.0</td>\n",
       "      <td>0.0</td>\n",
       "      <td>0.0</td>\n",
       "      <td>0.0</td>\n",
       "      <td>0.0</td>\n",
       "      <td>1.0</td>\n",
       "      <td>0.0</td>\n",
       "      <td>0.0</td>\n",
       "      <td>1.0</td>\n",
       "      <td>0.0</td>\n",
       "      <td>0.0</td>\n",
       "      <td>0.0</td>\n",
       "      <td>1.0</td>\n",
       "      <td>1.0</td>\n",
       "      <td>0.0</td>\n",
       "      <td>0.0</td>\n",
       "      <td>0.0</td>\n",
       "      <td>0.0</td>\n",
       "      <td>1.0</td>\n",
       "      <td>0.0</td>\n",
       "      <td>0.0</td>\n",
       "      <td>1.0</td>\n",
       "      <td>0.0</td>\n",
       "      <td>1.0</td>\n",
       "      <td>0.0</td>\n",
       "      <td>0.0</td>\n",
       "      <td>0.0</td>\n",
       "      <td>1.0</td>\n",
       "      <td>0.0</td>\n",
       "      <td>0.0</td>\n",
       "      <td>1.0</td>\n",
       "      <td>1.0</td>\n",
       "      <td>0.0</td>\n",
       "    </tr>\n",
       "  </tbody>\n",
       "</table>\n",
       "</div>"
      ],
      "text/plain": [
       "   Duration in month  Credit amount  \\\n",
       "9                 30           5234   \n",
       "\n",
       "   Installment rate in percentage of disposable income  \\\n",
       "9                                                  4     \n",
       "\n",
       "   Present residence since  Age in years  \\\n",
       "9                        2            28   \n",
       "\n",
       "   Number of existing credits at this bank  \\\n",
       "9                                        2   \n",
       "\n",
       "   Number of people being liable to provide maintenance for  \\\n",
       "9                                                  1          \n",
       "\n",
       "   Status of existing checking account_0 <= <200 DM  \\\n",
       "9                                               1.0   \n",
       "\n",
       "   Status of existing checking account_<0 DM  \\\n",
       "9                                        0.0   \n",
       "\n",
       "   Status of existing checking account_>= 200 DM   \\\n",
       "9                                             0.0   \n",
       "\n",
       "   Status of existing checking account_no checking account  \\\n",
       "9                                                0.0         \n",
       "\n",
       "   Credit history_all credits at this bank paid back duly  \\\n",
       "9                                                0.0        \n",
       "\n",
       "   Credit history_critical account  Credit history_delay in paying off  \\\n",
       "9                              1.0                                 0.0   \n",
       "\n",
       "   Credit history_existing credits paid back duly till now  \\\n",
       "9                                                0.0         \n",
       "\n",
       "   Credit history_no credits taken  Purpose_business  Purpose_car (new)  \\\n",
       "9                              0.0               0.0                1.0   \n",
       "\n",
       "   Purpose_car (used)  Purpose_domestic appliances  Purpose_education  \\\n",
       "9                 0.0                          0.0                0.0   \n",
       "\n",
       "   Purpose_furniture/equipment  Purpose_others  Purpose_radio/television  \\\n",
       "9                          0.0             0.0                       0.0   \n",
       "\n",
       "   Purpose_repairs  Purpose_retraining  Savings account/bonds_100 <= <500 DM  \\\n",
       "9              0.0                 0.0                                   0.0   \n",
       "\n",
       "   Savings account/bonds_500 <= < 1000 DM  Savings account/bonds_<100 DM  \\\n",
       "9                                     0.0                            1.0   \n",
       "\n",
       "   Savings account/bonds_>= 1000 DM  Savings account/bonds_no savings account  \\\n",
       "9                               0.0                                       0.0   \n",
       "\n",
       "   Present employment since_1<= < 4 years  \\\n",
       "9                                     0.0   \n",
       "\n",
       "   Present employment since_4<= <7 years  Present employment since_<1 years  \\\n",
       "9                                    0.0                                0.0   \n",
       "\n",
       "   Present employment since_>=7 years  Present employment since_unemployed  \\\n",
       "9                                 0.0                                  1.0   \n",
       "\n",
       "   Personal status and sex_female:divorced/separated/married  \\\n",
       "9                                                0.0           \n",
       "\n",
       "   Personal status and sex_male:divorced/separated  \\\n",
       "9                                              0.0   \n",
       "\n",
       "   Personal status and sex_male:married/widowed  \\\n",
       "9                                           1.0   \n",
       "\n",
       "   Personal status and sex_male:single  \\\n",
       "9                                  0.0   \n",
       "\n",
       "   Other debtors / guarantors_co-applicant  \\\n",
       "9                                      0.0   \n",
       "\n",
       "   Other debtors / guarantors_guarantor  Other debtors / guarantors_none  \\\n",
       "9                                   0.0                              1.0   \n",
       "\n",
       "   Property_car or other  Property_real estate  \\\n",
       "9                    1.0                   0.0   \n",
       "\n",
       "   Property_savings agreement/life insurance  Property_unknown / no property  \\\n",
       "9                                        0.0                             0.0   \n",
       "\n",
       "   Other installment plans_bank  Other installment plans_none  \\\n",
       "9                           0.0                           1.0   \n",
       "\n",
       "   Other installment plans_store  Housing_for free  Housing_own  Housing_rent  \\\n",
       "9                            0.0               0.0          1.0           0.0   \n",
       "\n",
       "   Job_management/ highly qualified employee  Job_skilled employee / official  \\\n",
       "9                                        1.0                              0.0   \n",
       "\n",
       "   Job_unemployed/ unskilled  - non-resident  Job_unskilled - resident  \\\n",
       "9                                        0.0                       0.0   \n",
       "\n",
       "   Telephone_none  Telephone_yes  foreign worker_no  foreign worker_yes  \\\n",
       "9             1.0            0.0                0.0                 1.0   \n",
       "\n",
       "   Cost Matrix(Risk)_Bad Risk  Cost Matrix(Risk)_Good Risk  \n",
       "9                         1.0                          0.0  "
      ]
     },
     "metadata": {},
     "output_type": "display_data"
    }
   ],
   "source": [
    "dropdown_v1.observe(dropdown_v1_eventhandler, names='value')\n",
    "display(dropdown_v1)"
   ]
  },
  {
   "cell_type": "code",
   "execution_count": 3,
   "id": "de7878bb",
   "metadata": {},
   "outputs": [
    {
     "data": {
      "application/vnd.jupyter.widget-view+json": {
       "model_id": "4c9de97cefdd47959e00bd9720e9bb8b",
       "version_major": 2,
       "version_minor": 0
      },
      "text/plain": [
       "interactive(children=(Button(description='Run Interact', style=ButtonStyle()), Output()), _dom_classes=('widge…"
      ]
     },
     "metadata": {},
     "output_type": "display_data"
    },
    {
     "data": {
      "text/plain": [
       "<function utils_outsourcing.show_dt()>"
      ]
     },
     "metadata": {},
     "output_type": "display_data"
    }
   ],
   "source": [
    "im2 = interact_manual(show_dt)\n",
    "im2.widget.children[0].description = 'zeige DT System an'\n",
    "display(im2)"
   ]
  },
  {
   "cell_type": "markdown",
   "id": "3fbe54cb",
   "metadata": {},
   "source": [
    "**klassifiziere den ausgewählten Kunden mit DT**"
   ]
  },
  {
   "cell_type": "code",
   "execution_count": 4,
   "id": "bd67101a",
   "metadata": {
    "scrolled": true
   },
   "outputs": [
    {
     "data": {
      "application/vnd.jupyter.widget-view+json": {
       "model_id": "b94502b9b3584154b7595204b70a5c17",
       "version_major": 2,
       "version_minor": 0
      },
      "text/plain": [
       "interactive(children=(Button(description='Run Interact', style=ButtonStyle()), Output()), _dom_classes=('widge…"
      ]
     },
     "metadata": {},
     "output_type": "display_data"
    },
    {
     "data": {
      "text/plain": [
       "<function utils_outsourcing.classify_dt()>"
      ]
     },
     "metadata": {},
     "output_type": "display_data"
    }
   ],
   "source": [
    "im3 = interact_manual(classify_dt)\n",
    "im3.widget.children[0].description = 'classify (DT)'\n",
    "display(im3)"
   ]
  },
  {
   "cell_type": "code",
   "execution_count": 5,
   "id": "3b55386b",
   "metadata": {},
   "outputs": [
    {
     "data": {
      "application/vnd.jupyter.widget-view+json": {
       "model_id": "decddfd646534d8090b390bc0bf2f044",
       "version_major": 2,
       "version_minor": 0
      },
      "text/plain": [
       "interactive(children=(Button(description='Run Interact', style=ButtonStyle()), Output()), _dom_classes=('widge…"
      ]
     },
     "metadata": {},
     "output_type": "display_data"
    },
    {
     "data": {
      "text/plain": [
       "<function utils_outsourcing.explain_dt()>"
      ]
     },
     "metadata": {},
     "output_type": "display_data"
    }
   ],
   "source": [
    "im4 = interact_manual(explain_dt)\n",
    "im4.widget.children[0].description = 'Erklärung der Vorhersage(DT)'\n",
    "display(im4)"
   ]
  },
  {
   "cell_type": "code",
   "execution_count": 6,
   "id": "6c77570b",
   "metadata": {},
   "outputs": [
    {
     "data": {
      "application/vnd.jupyter.widget-view+json": {
       "model_id": "ec62214a09f84bd39fc246583d88b385",
       "version_major": 2,
       "version_minor": 0
      },
      "text/plain": [
       "interactive(children=(Button(description='Run Interact', style=ButtonStyle()), Output()), _dom_classes=('widge…"
      ]
     },
     "metadata": {},
     "output_type": "display_data"
    },
    {
     "data": {
      "text/plain": [
       "<function utils_outsourcing.show_shap_global()>"
      ]
     },
     "metadata": {},
     "output_type": "display_data"
    }
   ],
   "source": [
    "im5 = interact_manual(show_shap_global)\n",
    "im5.widget.children[0].description = 'Erklärung vom  gesamten XGB'\n",
    "display(im5)"
   ]
  },
  {
   "cell_type": "code",
   "execution_count": 7,
   "id": "eb20b10d",
   "metadata": {},
   "outputs": [
    {
     "data": {
      "application/vnd.jupyter.widget-view+json": {
       "model_id": "7baf6aab3c094879bb2a8b7b5256f013",
       "version_major": 2,
       "version_minor": 0
      },
      "text/plain": [
       "interactive(children=(Button(description='Run Interact', style=ButtonStyle()), Output()), _dom_classes=('widge…"
      ]
     },
     "metadata": {},
     "output_type": "display_data"
    },
    {
     "data": {
      "text/plain": [
       "<function utils_outsourcing.classify_xgb()>"
      ]
     },
     "metadata": {},
     "output_type": "display_data"
    }
   ],
   "source": [
    "im6 = interact_manual(classify_xgb)\n",
    "im6.widget.children[0].description = 'classify (XGB)'\n",
    "display(im6)"
   ]
  },
  {
   "cell_type": "code",
   "execution_count": 8,
   "id": "d5b53039",
   "metadata": {},
   "outputs": [
    {
     "data": {
      "application/vnd.jupyter.widget-view+json": {
       "model_id": "9d373b4d3856405e918ecb117699a7c3",
       "version_major": 2,
       "version_minor": 0
      },
      "text/plain": [
       "interactive(children=(Button(description='Run Interact', style=ButtonStyle()), Output()), _dom_classes=('widge…"
      ]
     },
     "metadata": {},
     "output_type": "display_data"
    },
    {
     "data": {
      "text/plain": [
       "<function utils_outsourcing.show_shap_local()>"
      ]
     },
     "metadata": {},
     "output_type": "display_data"
    }
   ],
   "source": [
    "im7 = interact_manual(show_shap_local)\n",
    "im7.widget.children[0].description = 'Erklärung der Vorhersage (XGB)'\n",
    "display(im7)"
   ]
  },
  {
   "cell_type": "code",
   "execution_count": null,
   "id": "3a1ecfb6",
   "metadata": {},
   "outputs": [],
   "source": [
    "im8 = interact_manual(show_shap_local2)\n",
    "im8.widget.children[0].description = 'Erklärung der Vorhersage Histogram (XGB)'\n",
    "display(im8)"
   ]
  }
 ],
 "metadata": {
  "kernelspec": {
   "display_name": "Python 3 (ipykernel)",
   "language": "python",
   "name": "python3"
  },
  "language_info": {
   "codemirror_mode": {
    "name": "ipython",
    "version": 3
   },
   "file_extension": ".py",
   "mimetype": "text/x-python",
   "name": "python",
   "nbconvert_exporter": "python",
   "pygments_lexer": "ipython3",
   "version": "3.8.13"
  }
 },
 "nbformat": 4,
 "nbformat_minor": 5
}
