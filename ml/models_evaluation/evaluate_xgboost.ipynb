{
 "cells": [
  {
   "cell_type": "code",
   "execution_count": null,
   "id": "93cce929",
   "metadata": {
    "pycharm": {
     "is_executing": true
    }
   },
   "outputs": [],
   "source": [
    "from matplotlib import pyplot as plt\n",
    "from sklearn import datasets\n",
    "from sklearn.tree import DecisionTreeClassifier\n",
    "from sklearn import tree\n",
    "import pandas as pd\n",
    "from sklearn.model_selection import train_test_split\n",
    "import pickle\n",
    "import xgboost as xgb\n",
    "from sklearn.metrics import RocCurveDisplay\n",
    "import sklearn.feature_selection\n",
    "import sklearn.pipeline\n",
    "import numpy as np\n",
    "from sklearn.model_selection import GridSearchCV\n",
    "from sklearn.metrics import roc_auc_score\n",
    "from sklearn import metrics\n",
    "from sklearn.model_selection import StratifiedKFold\n",
    "from sklearn.metrics import f1_score, recall_score, precision_score, confusion_matrix, auc, precision_recall_curve\n",
    "\n",
    "import warnings\n",
    "warnings.filterwarnings('ignore')"
   ]
  },
  {
   "cell_type": "markdown",
   "source": [
    "# Hier werden unterschiedliche optimale XGBoost Modelle erstellt.\n",
    "# GridSearchCV wird für die Suche nach optimalen Parametern angewendet\n",
    "# Training und Evaluation passiert auf der 5-Kreuzvalidierung\n",
    "# und das alles passiert auf drei Datensätzen"
   ],
   "metadata": {
    "collapsed": false,
    "pycharm": {
     "name": "#%% md\n"
    }
   }
  },
  {
   "cell_type": "code",
   "id": "6fe56fde",
   "metadata": {
    "pycharm": {
     "name": "#%%\n",
     "is_executing": true
    },
    "scrolled": false
   },
   "source": [
    "df = pd.read_csv('./../data/german_onehotencoded.csv')\n",
    "ds = df.to_numpy()\n",
    "y = ds[:,-2: -1] # for last column\n",
    "x = ds[:, :-2] # for all but last column\n",
    "\n",
    "cv = StratifiedKFold(n_splits=5)\n",
    "\n",
    "tprs = []\n",
    "aucs = []\n",
    "precisionrecalllist = []\n",
    "y_pred_scores_list = []\n",
    "mean_fpr = np.linspace(0, 1, 100)\n",
    "\n",
    "y_real = []\n",
    "y_proba = []\n",
    "axes_steps = []\n",
    "\n",
    "# play with these params\n",
    "params={\n",
    "    'max_depth': range (2, 10, 1),\n",
    "    'n_estimators': range(60, 220, 40),\n",
    "    'learning_rate': [0.1, 0.01, 0.05],\n",
    "}\n",
    "\n",
    "fig, ax = plt.subplots()\n",
    "for i, (train, test) in enumerate(cv.split(x, y)):\n",
    "    \n",
    "    xgb_clf = xgb.XGBClassifier(seed=42)\n",
    "\n",
    "    grid_search_cv = GridSearchCV(xgb_clf,\n",
    "                  params,\n",
    "                  cv=2,\n",
    "                  scoring=\"roc_auc\",\n",
    "                  n_jobs=1,\n",
    "                  verbose=False)\n",
    "    \n",
    "    grid_search_cv.fit(x[train], y[train], eval_metric='mlogloss')\n",
    "\n",
    "    model = grid_search_cv.best_estimator_\n",
    "\n",
    "    pred = model.predict(x[test])\n",
    "\n",
    "    pred_proba = model.predict_proba(x[test])\n",
    "    pred_scores = pred_proba.max(axis=1)\n",
    "    print('F1: ', f1_score(pred, y[test]))\n",
    "    print('Precision: ', precision_score(pred, y[test]))\n",
    "    print('Recall: ', recall_score(pred, y[test]))\n",
    "    tn, fp, fn, tp = confusion_matrix(y[test], pred).ravel()\n",
    "    false_positive_rate = fp / (fp + tn)\n",
    "    true_positive_rate = tp / (tp + fp)\n",
    "    print('false positive rate: ', false_positive_rate)\n",
    "    print('true positive rate:', true_positive_rate)\n",
    "\n",
    "    precision, recall, _ = precision_recall_curve(y[test], pred_proba[:,1])\n",
    "\n",
    "    y_real.append(y[test])\n",
    "    y_proba.append(pred_proba[:,1])\n",
    "    y_pred_scores_list.append(pred_scores)\n",
    "\n",
    "    lab = 'Fold %d' % (i+1)\n",
    "    axes_steps.append((recall, precision, lab))\n",
    "\n",
    "    viz = RocCurveDisplay.from_estimator(\n",
    "        model,\n",
    "        x[test],\n",
    "        y[test],\n",
    "        name=\"ROC fold {}\".format(i),\n",
    "        alpha=0.3,\n",
    "        lw=1,\n",
    "        ax=ax,\n",
    "    )\n",
    "    interp_tpr = np.interp(mean_fpr, viz.fpr, viz.tpr)\n",
    "    interp_tpr[0] = 0.0\n",
    "    tprs.append(interp_tpr)\n",
    "    aucs.append(viz.roc_auc)\n",
    "\n",
    "    prec, recall, _ = precision_recall_curve(pred, pred_scores, pos_label=np.array([x[0] for x in y[test].tolist()]))\n",
    "    precisionrecalllist.append([prec, recall])\n",
    "\n",
    "ax.plot([0, 1], [0, 1], linestyle=\"--\", lw=2, color=\"r\", label=\"Chance\", alpha=0.8)\n",
    "\n",
    "mean_tpr = np.mean(tprs, axis=0)\n",
    "mean_tpr[-1] = 1.0\n",
    "mean_auc = auc(mean_fpr, mean_tpr)\n",
    "std_auc = np.std(aucs)\n",
    "ax.plot(\n",
    "    mean_fpr,\n",
    "    mean_tpr,\n",
    "    color=\"b\",\n",
    "    label=r\"Mean ROC (AUC = %0.2f $\\pm$ %0.2f)\" % (mean_auc, std_auc),\n",
    "    lw=2,\n",
    "    alpha=0.8,\n",
    ")\n",
    "\n",
    "std_tpr = np.std(tprs, axis=0)\n",
    "tprs_upper = np.minimum(mean_tpr + std_tpr, 1)\n",
    "tprs_lower = np.maximum(mean_tpr - std_tpr, 0)\n",
    "ax.fill_between(\n",
    "    mean_fpr,\n",
    "    tprs_lower,\n",
    "    tprs_upper,\n",
    "    color=\"grey\",\n",
    "    alpha=0.2,\n",
    "    label=r\"$\\pm$ 1 std. dev.\",\n",
    ")\n",
    "\n",
    "ax.set(\n",
    "    xlim=[-0.05, 1.05],\n",
    "    ylim=[-0.05, 1.05],\n",
    ")\n",
    "ax.legend(loc=\"lower right\")\n",
    "plt.savefig('xg_german_onehotencoded_roc.pdf')\n",
    "plt.show()\n",
    "\n",
    "#print(precisionrecalllist)"
   ],
   "execution_count": null,
   "outputs": []
  },
  {
   "cell_type": "code",
   "execution_count": 15,
   "id": "deb5bd0d",
   "metadata": {
    "pycharm": {
     "name": "#%%\n"
    }
   },
   "outputs": [
    {
     "name": "stdout",
     "output_type": "stream",
     "text": [
      "(5, 200)\n",
      "(5, 200, 1)\n",
      "(5, 200)\n"
     ]
    },
    {
     "data": {
      "image/png": "[encoded data removed]",
      "text/plain": [
       "<Figure size 432x288 with 1 Axes>"
      ]
     },
     "metadata": {
      "needs_background": "light"
     },
     "output_type": "display_data"
    }
   ],
   "source": [
    "print(np.array(y_proba).shape)\n",
    "print(np.array(y_real).shape)\n",
    "print(np.array(y_pred_scores_list).shape)\n",
    "\n",
    "fig, ax = plt.subplots()\n",
    "\n",
    "for i in range(len(axes_steps)):\n",
    "    ax.step(axes_steps[i][0], axes_steps[i][1], label = axes_steps[i][2])\n",
    "\n",
    "y_real_test = np.concatenate(np.array(y_real))\n",
    "y_proba_test = np.concatenate(np.array(y_proba))\n",
    "\n",
    "precision, recall, _ = precision_recall_curve(y_real_test, y_proba_test)\n",
    "lab = 'Mean Pr-Rc curve'\n",
    "ax.step(recall, precision, label=lab, lw=2, color='b')\n",
    "ax.set_xlabel('Recall')\n",
    "ax.set_ylabel('Precision')\n",
    "ax.legend(loc='lower left', fontsize='small')\n",
    "plt.savefig('xg_german_onehotencoded_prre.pdf')\n",
    "\n",
    "ax.set(\n",
    "    xlim=[-0.05, 1.05],\n",
    "    ylim=[-0.05, 1.05],\n",
    ")\n",
    "\n",
    "plt.show()"
   ]
  },
  {
   "cell_type": "code",
   "execution_count": 17,
   "id": "600d6049",
   "metadata": {
    "pycharm": {
     "name": "#%%\n"
    }
   },
   "outputs": [
    {
     "name": "stdout",
     "output_type": "stream",
     "text": [
      "F1:  0.182720953326713\n",
      "Precision:  0.9292929292929293\n",
      "Recall:  0.1013215859030837\n",
      "false positive rate:  0.014350280498742592\n",
      "true positive rate: 0.1013215859030837\n",
      "F1:  0.8681318681318682\n",
      "Precision:  0.797979797979798\n",
      "Recall:  0.9518072289156626\n",
      "false positive rate:  7.03445122487382e-05\n",
      "true positive rate: 0.9518072289156626\n",
      "F1:  0.7272727272727272\n",
      "Precision:  0.6530612244897959\n",
      "Recall:  0.8205128205128205\n",
      "false positive rate:  0.0002462057928705837\n",
      "true positive rate: 0.8205128205128205\n",
      "F1:  0.8571428571428571\n",
      "Precision:  0.7653061224489796\n",
      "Recall:  0.974025974025974\n",
      "false positive rate:  3.51722561243691e-05\n",
      "true positive rate: 0.974025974025974\n",
      "F1:  0.7701863354037266\n",
      "Precision:  0.6326530612244898\n",
      "Recall:  0.9841269841269841\n",
      "false positive rate:  1.758612806218455e-05\n",
      "true positive rate: 0.9841269841269841\n"
     ]
    },
    {
     "data": {
      "image/png": "[encoded data removed]",
      "text/plain": [
       "<Figure size 432x288 with 1 Axes>"
      ]
     },
     "metadata": {
      "needs_background": "light"
     },
     "output_type": "display_data"
    }
   ],
   "source": [
    "df = pd.read_csv('./../data/creditcard.csv')\n",
    "ds = df.to_numpy()\n",
    "y = ds[:, -1] # for last column\n",
    "x = ds[:, :-1] # for all but last column\n",
    "\n",
    "cv = StratifiedKFold(n_splits=5)\n",
    "\n",
    "tprs = []\n",
    "aucs = []\n",
    "precisionrecalllist = []\n",
    "y_pred_scores_list = []\n",
    "mean_fpr = np.linspace(0, 1, 100)\n",
    "\n",
    "y_real = []\n",
    "y_proba = []\n",
    "axes_steps = []\n",
    "\n",
    "# play with these params\n",
    "params={\n",
    "    'max_depth': range (2, 10, 1),\n",
    "    'n_estimators': range(60, 220, 40),\n",
    "    'learning_rate': [0.1, 0.01, 0.05],\n",
    "}\n",
    "\n",
    "fig, ax = plt.subplots()\n",
    "for i, (train, test) in enumerate(cv.split(x, y)):\n",
    "\n",
    "    xgb_clf = xgb.XGBClassifier(seed=42)\n",
    "\n",
    "    grid_search_cv = GridSearchCV(xgb_clf,\n",
    "                  params,\n",
    "                  cv=2,\n",
    "                  scoring=\"roc_auc\",\n",
    "                  n_jobs=1,\n",
    "                  verbose=False)\n",
    "    \n",
    "    grid_search_cv.fit(x[train], y[train], eval_metric='mlogloss')\n",
    "\n",
    "    model = grid_search_cv.best_estimator_\n",
    "\n",
    "    pred = model.predict(x[test])\n",
    "\n",
    "    pred_proba = model.predict_proba(x[test])\n",
    "    pred_scores = pred_proba.max(axis=1)\n",
    "    print('F1: ', f1_score(pred, y[test]))\n",
    "    print('Precision: ', precision_score(pred, y[test]))\n",
    "    print('Recall: ', recall_score(pred, y[test]))\n",
    "    tn, fp, fn, tp = confusion_matrix(y[test], pred).ravel()\n",
    "    false_positive_rate = fp / (fp + tn)\n",
    "    true_positive_rate = tp / (tp + fp)\n",
    "    print('false positive rate: ', false_positive_rate)\n",
    "    print('true positive rate:', true_positive_rate)\n",
    "\n",
    "    precision, recall, _ = precision_recall_curve(y[test], pred_proba[:,1])\n",
    "\n",
    "    y_real.append(y[test])\n",
    "    y_proba.append(pred_proba[:,1])\n",
    "    y_pred_scores_list.append(pred_scores)\n",
    "\n",
    "    lab = 'Fold %d' % (i+1)\n",
    "    axes_steps.append((recall, precision, lab))\n",
    "\n",
    "    viz = RocCurveDisplay.from_estimator(\n",
    "        model,\n",
    "        x[test],\n",
    "        y[test],\n",
    "        name=\"ROC fold {}\".format(i),\n",
    "        alpha=0.3,\n",
    "        lw=1,\n",
    "        ax=ax,\n",
    "    )\n",
    "    interp_tpr = np.interp(mean_fpr, viz.fpr, viz.tpr)\n",
    "    interp_tpr[0] = 0.0\n",
    "    tprs.append(interp_tpr)\n",
    "    aucs.append(viz.roc_auc)\n",
    "\n",
    "    prec, recall, _ = precision_recall_curve(pred, pred_scores, pos_label=y[test])\n",
    "    precisionrecalllist.append([prec, recall])\n",
    "\n",
    "ax.plot([0, 1], [0, 1], linestyle=\"--\", lw=2, color=\"r\", label=\"Chance\", alpha=0.8)\n",
    "\n",
    "mean_tpr = np.mean(tprs, axis=0)\n",
    "mean_tpr[-1] = 1.0\n",
    "mean_auc = auc(mean_fpr, mean_tpr)\n",
    "std_auc = np.std(aucs)\n",
    "ax.plot(\n",
    "    mean_fpr,\n",
    "    mean_tpr,\n",
    "    color=\"b\",\n",
    "    label=r\"Mean ROC (AUC = %0.2f $\\pm$ %0.2f)\" % (mean_auc, std_auc),\n",
    "    lw=2,\n",
    "    alpha=0.8,\n",
    ")\n",
    "\n",
    "std_tpr = np.std(tprs, axis=0)\n",
    "tprs_upper = np.minimum(mean_tpr + std_tpr, 1)\n",
    "tprs_lower = np.maximum(mean_tpr - std_tpr, 0)\n",
    "ax.fill_between(\n",
    "    mean_fpr,\n",
    "    tprs_lower,\n",
    "    tprs_upper,\n",
    "    color=\"grey\",\n",
    "    alpha=0.2,\n",
    "    label=r\"$\\pm$ 1 std. dev.\",\n",
    ")\n",
    "\n",
    "ax.set(\n",
    "    xlim=[-0.05, 1.05],\n",
    "    ylim=[-0.05, 1.05],\n",
    ")\n",
    "ax.legend(loc=\"lower right\")\n",
    "plt.savefig('xg_creditcard_roc.pdf')\n",
    "plt.show()\n"
   ]
  },
  {
   "cell_type": "code",
   "execution_count": 18,
   "id": "be380040",
   "metadata": {
    "pycharm": {
     "name": "#%%\n"
    }
   },
   "outputs": [
    {
     "name": "stdout",
     "output_type": "stream",
     "text": [
      "(5,)\n",
      "(5,)\n",
      "(5,)\n"
     ]
    },
    {
     "data": {
      "image/png": "[encoded data removed]",
      "text/plain": [
       "<Figure size 432x288 with 1 Axes>"
      ]
     },
     "metadata": {
      "needs_background": "light"
     },
     "output_type": "display_data"
    }
   ],
   "source": [
    "print(np.array(y_proba).shape)\n",
    "print(np.array(y_real).shape)\n",
    "print(np.array(y_pred_scores_list).shape)\n",
    "\n",
    "fig, ax = plt.subplots()\n",
    "\n",
    "for i in range(len(axes_steps)):\n",
    "    ax.step(axes_steps[i][0], axes_steps[i][1], label = axes_steps[i][2])\n",
    "\n",
    "y_real_test = np.concatenate(np.array(y_real))\n",
    "y_proba_test = np.concatenate(np.array(y_proba))\n",
    "\n",
    "precision, recall, _ = precision_recall_curve(y_real_test, y_proba_test)\n",
    "lab = 'Mean Pr-Rc curve'\n",
    "ax.step(recall, precision, label=lab, lw=2, color='b')\n",
    "ax.set_xlabel('Recall')\n",
    "ax.set_ylabel('Precision')\n",
    "ax.legend(loc='lower left', fontsize='small')\n",
    "plt.savefig('xg_creditcard_prre.pdf')\n",
    "\n",
    "ax.set(\n",
    "    xlim=[-0.05, 1.05],\n",
    "    ylim=[-0.05, 1.05],\n",
    ")\n",
    "\n",
    "plt.show()"
   ]
  },
  {
   "cell_type": "code",
   "execution_count": 37,
   "id": "e4ebcc58",
   "metadata": {
    "pycharm": {
     "name": "#%%\n"
    }
   },
   "outputs": [
    {
     "name": "stdout",
     "output_type": "stream",
     "text": [
      "(307511, 251)\n",
      "(307511, 1)\n",
      "(24825,) (24825,)\n",
      "[     0     26     40 ... 307481 307489 307509]\n",
      "[    1     2     3 ... 26976 26977 26978]\n"
     ]
    }
   ],
   "source": [
    "df = pd.read_csv('./../data/application_data_onehotencoded.csv')\n",
    "df = df.fillna(0)\n",
    "y = df['TARGET'].to_numpy().reshape(-1,1) # for last column\n",
    "\n",
    "a = [df.columns[0]]\n",
    "b = df.columns[2:]\n",
    "res = [*a, *b]\n",
    "x = df[res].to_numpy() # for all but last column\n",
    "\n",
    "print(x.shape)\n",
    "print(y.shape)\n",
    "\n",
    "number_of_1 = np.where(y==1)[0]\n",
    "number_of_0 = np.where(y==0)[0][:number_of_1.shape[0]]\n",
    "\n",
    "print(number_of_1.shape, number_of_0.shape)\n",
    "print(number_of_1)\n",
    "print(number_of_0)"
   ]
  },
  {
   "cell_type": "code",
   "execution_count": 38,
   "outputs": [
    {
     "name": "stdout",
     "output_type": "stream",
     "text": [
      "(49650, 251)\n",
      "(49650, 1)\n"
     ]
    }
   ],
   "source": [
    "x1=x[number_of_1]\n",
    "x0=x[number_of_0]\n",
    "\n",
    "y1=y[number_of_1]\n",
    "y0=y[number_of_0]\n",
    "\n",
    "x = np.concatenate((x1,x0))\n",
    "y = np.concatenate((y1,y0))\n",
    "\n",
    "print(x.shape)\n",
    "print(y.shape)"
   ],
   "metadata": {
    "collapsed": false,
    "pycharm": {
     "name": "#%%\n"
    }
   }
  },
  {
   "cell_type": "code",
   "execution_count": 40,
   "id": "678b8839",
   "metadata": {
    "pycharm": {
     "name": "#%%\n"
    }
   },
   "outputs": [
    {
     "name": "stdout",
     "output_type": "stream",
     "text": [
      "F1:  0.4330124664667824\n",
      "Precision:  0.27633434038267873\n",
      "Recall:  1.0\n",
      "false positive rate:  0.0\n",
      "true positive rate: 1.0\n",
      "F1:  0.7155209684392564\n",
      "Precision:  1.0\n",
      "Recall:  0.5570514978121844\n",
      "false positive rate:  0.795166163141994\n",
      "true positive rate: 0.5570514978121844\n",
      "F1:  0.6830375567478333\n",
      "Precision:  1.0\n",
      "Recall:  0.5186461924161705\n",
      "false positive rate:  0.9280966767371601\n",
      "true positive rate: 0.5186461924161705\n",
      "F1:  0.6816309719934102\n",
      "Precision:  1.0\n",
      "Recall:  0.5170259293970634\n",
      "false positive rate:  0.9341389728096676\n",
      "true positive rate: 0.5170259293970634\n",
      "F1:  0.6670697299476018\n",
      "Precision:  1.0\n",
      "Recall:  0.5004535833081343\n",
      "false positive rate:  0.9981873111782478\n",
      "true positive rate: 0.5004535833081343\n"
     ]
    },
    {
     "data": {
      "text/plain": "<Figure size 432x288 with 1 Axes>",
      "image/png": "[encoded data removed]"
     },
     "metadata": {
      "needs_background": "light"
     },
     "output_type": "display_data"
    }
   ],
   "source": [
    "cv = StratifiedKFold(n_splits=5)\n",
    "\n",
    "tprs = []\n",
    "aucs = []\n",
    "precisionrecalllist = []\n",
    "y_pred_scores_list = []\n",
    "mean_fpr = np.linspace(0, 1, 100)\n",
    "\n",
    "y_real = []\n",
    "y_proba = []\n",
    "axes_steps = []\n",
    "\n",
    "# play with these params\n",
    "params={\n",
    "    'max_depth': range (2, 10, 1),\n",
    "    'n_estimators': range(60, 220, 40),\n",
    "    'learning_rate': [0.1, 0.01, 0.05],\n",
    "}\n",
    "\n",
    "fig, ax = plt.subplots()\n",
    "for i, (train, test) in enumerate(cv.split(x, y)):\n",
    "\n",
    "    xgb_clf = xgb.XGBClassifier(seed=42)\n",
    "\n",
    "    grid_search_cv = GridSearchCV(xgb_clf,\n",
    "                  params,\n",
    "                  scoring=\"roc_auc\",\n",
    "                  n_jobs=6,\n",
    "                  verbose=False)\n",
    "\n",
    "    grid_search_cv.fit(x[train], y[train], eval_metric='mlogloss')\n",
    "\n",
    "    model = grid_search_cv.best_estimator_\n",
    "\n",
    "    pred = model.predict(x[test])\n",
    "\n",
    "    pred_proba = model.predict_proba(x[test])\n",
    "    pred_scores = pred_proba.max(axis=1)\n",
    "    print('F1: ', f1_score(pred, y[test]))\n",
    "    print('Precision: ', precision_score(pred, y[test]))\n",
    "    print('Recall: ', recall_score(pred, y[test]))\n",
    "    tn, fp, fn, tp = confusion_matrix(y[test], pred).ravel()\n",
    "    false_positive_rate = fp / (fp + tn)\n",
    "    true_positive_rate = tp / (tp + fp)\n",
    "    print('false positive rate: ', false_positive_rate)\n",
    "    print('true positive rate:', true_positive_rate)\n",
    "\n",
    "    precision, recall, _ = precision_recall_curve(y[test], pred_proba[:,1])\n",
    "    precisionrecalllist.append([precision, recall])\n",
    "    \n",
    "    y_real.append(y[test])\n",
    "    y_proba.append(pred_proba[:,1])\n",
    "    y_pred_scores_list.append(pred_scores)\n",
    "\n",
    "    lab = 'Fold %d' % (i+1)\n",
    "    axes_steps.append((recall, precision, lab))\n",
    "\n",
    "    viz = RocCurveDisplay.from_estimator(\n",
    "        model,\n",
    "        x[test],\n",
    "        y[test],\n",
    "        name=\"ROC fold {}\".format(i),\n",
    "        alpha=0.3,\n",
    "        lw=1,\n",
    "        ax=ax,\n",
    "    )\n",
    "    interp_tpr = np.interp(mean_fpr, viz.fpr, viz.tpr)\n",
    "    interp_tpr[0] = 0.0\n",
    "    tprs.append(interp_tpr)\n",
    "    aucs.append(viz.roc_auc)\n",
    "\n",
    "    #prec, recall, _ = precision_recall_curve(pred, pred_scores, pos_label=y[test])\n",
    "    #precisionrecalllist.append([prec, recall])\n",
    "\n",
    "ax.plot([0, 1], [0, 1], linestyle=\"--\", lw=2, color=\"r\", label=\"Chance\", alpha=0.8)\n",
    "\n",
    "mean_tpr = np.mean(tprs, axis=0)\n",
    "mean_tpr[-1] = 1.0\n",
    "mean_auc = auc(mean_fpr, mean_tpr)\n",
    "std_auc = np.std(aucs)\n",
    "ax.plot(\n",
    "    mean_fpr,\n",
    "    mean_tpr,\n",
    "    color=\"b\",\n",
    "    label=r\"Mean ROC (AUC = %0.2f $\\pm$ %0.2f)\" % (mean_auc, std_auc),\n",
    "    lw=2,\n",
    "    alpha=0.8,\n",
    ")\n",
    "\n",
    "std_tpr = np.std(tprs, axis=0)\n",
    "tprs_upper = np.minimum(mean_tpr + std_tpr, 1)\n",
    "tprs_lower = np.maximum(mean_tpr - std_tpr, 0)\n",
    "ax.fill_between(\n",
    "    mean_fpr,\n",
    "    tprs_lower,\n",
    "    tprs_upper,\n",
    "    color=\"grey\",\n",
    "    alpha=0.2,\n",
    "    label=r\"$\\pm$ 1 std. dev.\",\n",
    ")\n",
    "\n",
    "ax.set(\n",
    "    xlim=[-0.05, 1.05],\n",
    "    ylim=[-0.05, 1.05],\n",
    ")\n",
    "ax.legend(loc=\"lower right\")\n",
    "plt.savefig('xg_application_data_onehotencoded_roc.pdf')\n",
    "plt.show()\n"
   ]
  },
  {
   "cell_type": "markdown",
   "id": "0546a754",
   "metadata": {
    "pycharm": {
     "name": "#%% md\n"
    }
   },
   "source": []
  },
  {
   "cell_type": "code",
   "execution_count": 41,
   "id": "9b57cc4f",
   "metadata": {
    "pycharm": {
     "name": "#%%\n"
    }
   },
   "outputs": [
    {
     "name": "stdout",
     "output_type": "stream",
     "text": [
      "(5, 9930)\n",
      "(5, 9930, 1)\n",
      "(5, 9930)\n"
     ]
    },
    {
     "data": {
      "text/plain": "<Figure size 432x288 with 1 Axes>",
      "image/png": "[encoded data removed]"
     },
     "metadata": {
      "needs_background": "light"
     },
     "output_type": "display_data"
    }
   ],
   "source": [
    "print(np.array(y_proba).shape)\n",
    "print(np.array(y_real).shape)\n",
    "print(np.array(y_pred_scores_list).shape)\n",
    "\n",
    "fig, ax = plt.subplots()\n",
    "\n",
    "for i in range(len(axes_steps)):\n",
    "    ax.step(axes_steps[i][0], axes_steps[i][1], label= axes_steps[i][2])\n",
    "\n",
    "y_real_test = np.concatenate(np.array(y_real))\n",
    "y_proba_test = np.concatenate(np.array(y_proba))\n",
    "\n",
    "precision, recall, _ = precision_recall_curve(y_real_test, y_proba_test)\n",
    "lab = 'Mean Pr-Rc curve'\n",
    "ax.step(recall, precision, label=lab, lw=2, color='b')\n",
    "ax.set_xlabel('Recall')\n",
    "ax.set_ylabel('Precision')\n",
    "ax.legend(loc='lower left', fontsize='small')\n",
    "plt.savefig('xg_application_data_onehotencoded_prre.pdf')\n",
    "\n",
    "ax.set(\n",
    "    xlim=[-0.05, 1.05],\n",
    "    ylim=[-0.05, 1.05],\n",
    ")\n",
    "\n",
    "plt.show()"
   ]
  },
  {
   "cell_type": "code",
   "execution_count": null,
   "id": "3355a734",
   "metadata": {},
   "outputs": [],
   "source": []
  }
 ],
 "metadata": {
  "kernelspec": {
   "display_name": "Python 3 (ipykernel)",
   "language": "python",
   "name": "python3"
  },
  "language_info": {
   "codemirror_mode": {
    "name": "ipython",
    "version": 3
   },
   "file_extension": ".py",
   "mimetype": "text/x-python",
   "name": "python",
   "nbconvert_exporter": "python",
   "pygments_lexer": "ipython3",
   "version": "3.8.13"
  }
 },
 "nbformat": 4,
 "nbformat_minor": 5
}