{
 "cells": [
  {
   "cell_type": "markdown",
   "metadata": {
    "pycharm": {
     "name": "#%% md\n"
    }
   },
   "source": [
    "load data and transfor it properly"
   ]
  },
  {
   "cell_type": "code",
   "execution_count": 4,
   "metadata": {
    "pycharm": {
     "name": "#%%\n"
    }
   },
   "outputs": [
    {
     "name": "stdout",
     "output_type": "stream",
     "text": [
      "       Time        V1        V2        V3        V4        V5        V6  \\\n",
      "0   82450.0  1.314539  0.590643 -0.666593  0.716564  0.301978 -1.125467   \n",
      "1   50554.0 -0.798672  1.185093  0.904547  0.694584  0.219041 -0.319295   \n",
      "2   55125.0 -0.391128 -0.245540  1.122074 -1.308725 -0.639891  0.008678   \n",
      "3  116572.0 -0.060302  1.065093 -0.987421 -0.029567  0.176376 -1.348539   \n",
      "4   90434.0  1.848433  0.373364  0.269272  3.866438  0.088062  0.970447   \n",
      "\n",
      "         V7        V8        V9  ...       V21       V22       V23       V24  \\\n",
      "0  0.388881 -0.288390 -0.132137  ... -0.170307 -0.429655 -0.141341 -0.200195   \n",
      "1  0.495236  0.139269 -0.760214  ...  0.202287  0.578699 -0.092245  0.013723   \n",
      "2 -0.701304 -0.027315 -2.628854  ... -0.133485  0.117403 -0.191748 -0.488642   \n",
      "3  0.775644  0.134843 -0.149734  ...  0.355576  0.907570 -0.018454 -0.126269   \n",
      "4 -0.721945  0.235983  0.683491  ...  0.103563  0.620954  0.197077  0.692392   \n",
      "\n",
      "        V25       V26       V27       V28  Amount  Class  \n",
      "0  0.639491  0.399476 -0.034321  0.031692    0.76    0.0  \n",
      "1 -0.246466 -0.380057 -0.396030 -0.112901    4.18    0.0  \n",
      "2 -0.309774  0.008100  0.163716  0.239582   15.00    0.0  \n",
      "3 -0.339923 -0.150285 -0.023634  0.042330   57.00    0.0  \n",
      "4 -0.206530 -0.021328 -0.019823 -0.042682    0.00    0.0  \n",
      "\n",
      "[5 rows x 31 columns]\n"
     ]
    }
   ],
   "source": [
    "df = pd.read_csv('data/creditcard_newds.csv')\n",
    "print(df.head())\n",
    "ds = df.to_numpy()"
   ]
  },
  {
   "cell_type": "markdown",
   "metadata": {
    "pycharm": {
     "name": "#%% md\n"
    }
   },
   "source": [
    "separate features from classes"
   ]
  },
  {
   "cell_type": "code",
   "execution_count": 5,
   "metadata": {
    "pycharm": {
     "name": "#%%\n"
    }
   },
   "outputs": [],
   "source": [
    "y = ds[:, -1] # for last column\n",
    "x = ds[:, :-1] # for all but last column"
   ]
  },
  {
   "cell_type": "markdown",
   "metadata": {
    "pycharm": {
     "name": "#%% md\n"
    }
   },
   "source": [
    "create Training and Test datasets"
   ]
  },
  {
   "cell_type": "code",
   "execution_count": 6,
   "metadata": {
    "pycharm": {
     "name": "#%%\n"
    }
   },
   "outputs": [
    {
     "name": "stdout",
     "output_type": "stream",
     "text": [
      "(13808,)\n",
      "(9665, 30)\n",
      "(9665,)\n"
     ]
    }
   ],
   "source": [
    "print(y.shape)\n",
    "X_train, X_test, y_train, y_test = train_test_split(x, y, test_size=0.3, random_state=42)\n",
    "\n",
    "print(X_train.shape)\n",
    "print(y_train.shape)"
   ]
  },
  {
   "cell_type": "markdown",
   "metadata": {
    "pycharm": {
     "name": "#%% md\n"
    }
   },
   "source": [
    "# Trainiere XGBoost\n",
    "\n",
    "# Unten befindet sich ein Model mit gesetzten Parameters, der nächste Schritt wird es sein die besten Parameters für XGboost aufzufinden. Die Anzahl der Parameter ist hier aufgelistet: https://xgboost.readthedocs.io/en/stable/parameter.html"
   ]
  },
  {
   "cell_type": "code",
   "execution_count": 7,
   "metadata": {
    "pycharm": {
     "name": "#%%\n"
    }
   },
   "outputs": [
    {
     "name": "stdout",
     "output_type": "stream",
     "text": [
      "Model error = 14.605272743330623\n",
      "0:[f14<-2.02730823] yes=1,no=2,missing=1,gain=1863.45825,cover=9665\n",
      "\t1:[f12<-1.1369288] yes=3,no=4,missing=3,gain=50.5510254,cover=3777\n",
      "\t\t3:[f10<1.81592369] yes=7,no=8,missing=7,gain=8.91503906,cover=3486\n",
      "\t\t\t7:leaf=0.996548772,cover=3477\n",
      "\t\t\t8:leaf=-0,cover=9\n",
      "\t\t4:[f4<1.80614364] yes=9,no=10,missing=9,gain=25.9578323,cover=291\n",
      "\t\t\t9:[f10<-1.66757154] yes=17,no=18,missing=17,gain=10.1112671,cover=171\n",
      "\t\t\t\t17:leaf=0.75,cover=40\n",
      "\t\t\t\t18:leaf=0.175572515,cover=131\n",
      "\t\t\t10:leaf=0.916666687,cover=120\n",
      "\t2:[f17<-1.61795545] yes=5,no=6,missing=5,gain=69.5863342,cover=5888\n",
      "\t\t5:leaf=0.964285731,cover=84\n",
      "\t\t6:[f4<1.70284641] yes=13,no=14,missing=13,gain=24.976429,cover=5804\n",
      "\t\t\t13:[f14<-0.931567669] yes=23,no=24,missing=23,gain=8.71987724,cover=5266\n",
      "\t\t\t\t23:[f4<0.80391252] yes=35,no=36,missing=35,gain=11.0645723,cover=548\n",
      "\t\t\t\t\t35:leaf=0.0735632181,cover=435\n",
      "\t\t\t\t\t36:[f12<-0.423833311] yes=57,no=58,missing=57,gain=8.36819458,cover=113\n",
      "\t\t\t\t\t\t57:leaf=0.848484874,cover=33\n",
      "\t\t\t\t\t\t58:leaf=0.25,cover=80\n",
      "\t\t\t\t24:leaf=0.0127172535,cover=4718\n",
      "\t\t\t14:[f14<-1.13550866] yes=25,no=26,missing=25,gain=15.3971405,cover=538\n",
      "\t\t\t\t25:[f10<0.336585164] yes=39,no=40,missing=39,gain=6.17057991,cover=54\n",
      "\t\t\t\t\t39:leaf=0.930232584,cover=43\n",
      "\t\t\t\t\t40:leaf=0.0909090936,cover=11\n",
      "\t\t\t\t26:[f12<-2.51212978] yes=41,no=42,missing=41,gain=15.1310196,cover=484\n",
      "\t\t\t\t\t41:leaf=0.729166687,cover=48\n",
      "\t\t\t\t\t42:[f28<0.210140735] yes=67,no=68,missing=67,gain=10.2133894,cover=436\n",
      "\t\t\t\t\t\t67:leaf=0.0729729757,cover=370\n",
      "\t\t\t\t\t\t68:leaf=0.5,cover=66\n",
      "\n"
     ]
    }
   ],
   "source": [
    "# parameters\n",
    "# https://xgboost.readthedocs.io/en/stable/parameter.html\n",
    "eta = 1\n",
    "gamma = 5\n",
    "max_depth = 7\n",
    "base_score = 0\n",
    "lmbd = 0\n",
    "\n",
    "# train a model with single tree\n",
    "Xd = xgb.DMatrix(X_train, label=y_train)\n",
    "model = xgb.train({\n",
    "    'eta':eta, 'gamma': 6, 'max_depth':max_depth, 'base_score': base_score, \"lambda\": 0, 'eval_metric': 'auc',\n",
    "}, Xd, 1)\n",
    "\n",
    "print(\"Model error =\", np.linalg.norm(y_train-model.predict(Xd)))\n",
    "print(model.get_dump(with_stats=True)[0])"
   ]
  },
  {
   "cell_type": "code",
   "execution_count": 8,
   "metadata": {
    "pycharm": {
     "name": "#%%\n"
    }
   },
   "outputs": [],
   "source": [
    "dtest = xgb.DMatrix(X_test, label=y_test)\n",
    "ypred = model.predict(dtest)"
   ]
  },
  {
   "cell_type": "markdown",
   "metadata": {
    "pycharm": {
     "name": "#%% md\n"
    }
   },
   "source": [
    "By default, the predictions made by XGBoost are probabilities. Because this is a binary classification problem, each prediction is the probability of the input pattern belonging to the first class. We can easily convert them to binary class values by rounding them to 0 or 1."
   ]
  },
  {
   "cell_type": "code",
   "execution_count": 9,
   "metadata": {
    "pycharm": {
     "name": "#%%\n"
    }
   },
   "outputs": [
    {
     "name": "stdout",
     "output_type": "stream",
     "text": [
      "1640\n",
      "2503\n"
     ]
    }
   ],
   "source": [
    "predictions = np.array([round(value) for value in ypred])\n",
    "print(len(predictions[predictions == 1]))\n",
    "print(len(predictions[predictions == 0]))"
   ]
  },
  {
   "cell_type": "markdown",
   "metadata": {
    "pycharm": {
     "name": "#%% md\n"
    }
   },
   "source": [
    "## hier ist die Evaluation des XGBoost'es"
   ]
  },
  {
   "cell_type": "code",
   "execution_count": 10,
   "metadata": {
    "pycharm": {
     "name": "#%%\n"
    }
   },
   "outputs": [
    {
     "name": "stdout",
     "output_type": "stream",
     "text": [
      "Accuracy:  0.9698286265990828\n",
      "Precision:  0.9453262786596119\n",
      "Recall:  0.9804878048780488\n",
      "false positive rate 0.013104013104013105\n",
      "false negative rate:  0.054673721340388004\n"
     ]
    }
   ],
   "source": [
    "print('Accuracy: ', accuracy_score(predictions, y_test))\n",
    "print('Precision: ', precision_score(predictions, y_test))\n",
    "print('Recall: ', recall_score(predictions, y_test))\n",
    "\n",
    "tn, fp, fn, tp = confusion_matrix(y_test, predictions).ravel()\n",
    "false_positive_rate = fp / (fp + tn)\n",
    "\n",
    "print('false positive rate', false_positive_rate)\n",
    "\n",
    "tn, fp, fn, tp = confusion_matrix(y_test, predictions).ravel()\n",
    "false_negative_rate = fn / (tp + fn)\n",
    "\n",
    "print('false negative rate: ', false_negative_rate)"
   ]
  },
  {
   "cell_type": "code",
   "execution_count": 11,
   "metadata": {
    "pycharm": {
     "name": "#%%\n"
    }
   },
   "outputs": [
    {
     "data": {
      "image/png": "[encoded data removed]",
      "text/plain": [
       "<Figure size 432x288 with 2 Axes>"
      ]
     },
     "metadata": {
      "needs_background": "light"
     },
     "output_type": "display_data"
    },
    {
     "name": "stdout",
     "output_type": "stream",
     "text": [
      "Anzahl der Frauds:  1701\n"
     ]
    }
   ],
   "source": [
    "cm = confusion_matrix(y_test, predictions)\n",
    "disp = ConfusionMatrixDisplay(confusion_matrix=cm)\n",
    "disp.plot(cmap=plt.cm.Blues)\n",
    "plt.show()\n",
    "\n",
    "print('Anzahl der Frauds: ', len(y_test[y_test==1]))"
   ]
  },
  {
   "cell_type": "code",
   "execution_count": 12,
   "metadata": {
    "pycharm": {
     "name": "#%%\n"
    }
   },
   "outputs": [],
   "source": [
    "# das model wird gespeichert\n",
    "model.save_model('models/xgboost.model')"
   ]
  },
  {
   "cell_type": "code",
   "execution_count": null,
   "metadata": {
    "pycharm": {
     "name": "#%%\n"
    }
   },
   "outputs": [],
   "source": []
  }
 ],
 "metadata": {
  "kernelspec": {
   "display_name": "Python 3 (ipykernel)",
   "language": "python",
   "name": "python3"
  },
  "language_info": {
   "codemirror_mode": {
    "name": "ipython",
    "version": 3
   },
   "file_extension": ".py",
   "mimetype": "text/x-python",
   "name": "python",
   "nbconvert_exporter": "python",
   "pygments_lexer": "ipython3",
   "version": "3.8.13"
  }
 },
 "nbformat": 4,
 "nbformat_minor": 1
}