{
 "cells": [
  {
   "cell_type": "code",
   "execution_count": 74,
   "metadata": {
    "collapsed": true
   },
   "outputs": [],
   "source": [
    "import numpy as np\n",
    "import pandas as pd\n",
    "from keras.models import Sequential\n",
    "from tensorflow.keras.layers import Dense\n",
    "from sklearn.model_selection import train_test_split\n",
    "from tensorflow.keras.layers import Dropout\n",
    "from sklearn.metrics import accuracy_score, recall_score, precision_score, confusion_matrix, ConfusionMatrixDisplay\n",
    "import matplotlib.pyplot as plt\n",
    "from sklearn.utils import compute_class_weight\n",
    "from imblearn.under_sampling import RandomUnderSampler\n",
    "from imblearn.pipeline import Pipeline\n",
    "\n",
    "np.random.seed(42)"
   ]
  },
  {
   "cell_type": "code",
   "execution_count": 91,
   "outputs": [
    {
     "name": "stdout",
     "output_type": "stream",
     "text": [
      "<bound method NDFrame.head of                 Time         V1         V2         V3        V4         V5  \\\n",
      "0       82450.000000   1.314539   0.590643  -0.666593  0.716564   0.301978   \n",
      "1       50554.000000  -0.798672   1.185093   0.904547  0.694584   0.219041   \n",
      "2       55125.000000  -0.391128  -0.245540   1.122074 -1.308725  -0.639891   \n",
      "3      116572.000000  -0.060302   1.065093  -0.987421 -0.029567   0.176376   \n",
      "4       90434.000000   1.848433   0.373364   0.269272  3.866438   0.088062   \n",
      "...              ...        ...        ...        ...       ...        ...   \n",
      "13803   28660.144835 -28.553925  15.889210 -29.492664  6.448861 -20.805347   \n",
      "13804  150305.516421  -2.679064  -0.939409  -3.899026  2.935596   0.009975   \n",
      "13805   91713.789482   0.931282   2.237816  -4.965300  2.593112   1.230142   \n",
      "13806   94362.000000 -26.457745  16.497472 -30.177317  8.904157 -17.892600   \n",
      "13807  116425.974840  -0.057156   1.913101  -5.120289  2.445768  -1.101931   \n",
      "\n",
      "             V6         V7         V8        V9  ...       V21       V22  \\\n",
      "0     -1.125467   0.388881  -0.288390 -0.132137  ... -0.170307 -0.429655   \n",
      "1     -0.319295   0.495236   0.139269 -0.760214  ...  0.202287  0.578699   \n",
      "2      0.008678  -0.701304  -0.027315 -2.628854  ... -0.133485  0.117403   \n",
      "3     -1.348539   0.775644   0.134843 -0.149734  ...  0.355576  0.907570   \n",
      "4      0.970447  -0.721945   0.235983  0.683491  ...  0.103563  0.620954   \n",
      "...         ...        ...        ...       ...  ...       ...       ...   \n",
      "13803 -4.867228 -19.513801  18.767278 -3.641856  ...  1.805909 -2.121851   \n",
      "13804 -0.797891   0.431915   0.272109 -0.800646  ...  0.043036  0.547563   \n",
      "13805 -1.907136  -0.233550   0.236582  0.531390  ... -0.039930 -0.266658   \n",
      "13806 -1.227904 -31.197329 -11.438920 -9.462573  ... -8.755698  3.460893   \n",
      "13807 -2.091941  -2.555234  -0.471140 -0.911369  ...  1.071155 -0.948875   \n",
      "\n",
      "            V23       V24       V25       V26       V27       V28      Amount  \\\n",
      "0     -0.141341 -0.200195  0.639491  0.399476 -0.034321  0.031692    0.760000   \n",
      "1     -0.092245  0.013723 -0.246466 -0.380057 -0.396030 -0.112901    4.180000   \n",
      "2     -0.191748 -0.488642 -0.309774  0.008100  0.163716  0.239582   15.000000   \n",
      "3     -0.018454 -0.126269 -0.339923 -0.150285 -0.023634  0.042330   57.000000   \n",
      "4      0.197077  0.692392 -0.206530 -0.021328 -0.019823 -0.042682    0.000000   \n",
      "...         ...       ...       ...       ...       ...       ...         ...   \n",
      "13803 -1.319589  0.170045  2.053971 -0.210476  1.300744  0.379892   99.990000   \n",
      "13804  0.191170 -0.105009  0.453638  0.092923 -0.009364  0.062747  126.439804   \n",
      "13805  0.037623 -0.114400  0.010539 -0.501890  0.093685  0.124299    6.680319   \n",
      "13806  0.896538  0.254836 -0.738097 -0.966564 -7.263482 -1.324884    1.000000   \n",
      "13807  0.283795 -0.219956  0.032231 -0.023198  0.576043  0.483584   70.954759   \n",
      "\n",
      "       Class  \n",
      "0        0.0  \n",
      "1        0.0  \n",
      "2        0.0  \n",
      "3        0.0  \n",
      "4        0.0  \n",
      "...      ...  \n",
      "13803    1.0  \n",
      "13804    1.0  \n",
      "13805    1.0  \n",
      "13806    1.0  \n",
      "13807    1.0  \n",
      "\n",
      "[13808 rows x 31 columns]>\n",
      "(13808, 30)\n",
      "(9665, 30)\n"
     ]
    }
   ],
   "source": [
    "df = pd.read_csv('data/creditcard_newds.csv')\n",
    "ds = df.to_numpy()\n",
    "y = ds[:, -1] # for last column\n",
    "x = ds[:, :-1] # for all but last column\n",
    "\n",
    "\n",
    "#under = RandomUnderSampler()\n",
    "#steps = [('u', under)]\n",
    "#pipeline = Pipeline(steps=steps)\n",
    "#X_sampled, y_sampled = pipeline.fit_resample(x, y)\n",
    "#print('class 0: ',len(y_sampled[y_sampled == 0]))\n",
    "#print('class 1:', len(y_sampled[y_sampled == 1]))\n",
    "#x, y = X_sampled, y_sampled\n",
    "\n",
    "print(df.head)\n",
    "print(x.shape)\n",
    "\n",
    "\n",
    "X_train, X_test, y_train, y_test = train_test_split(x, y, test_size=0.3, random_state=42)\n",
    "\n",
    "print(X_train.shape)"
   ],
   "metadata": {
    "collapsed": false,
    "pycharm": {
     "name": "#%%\n"
    }
   }
  },
  {
   "cell_type": "code",
   "execution_count": 92,
   "outputs": [],
   "source": [
    "# ein beispielhaftes NN model\n",
    "\n",
    "model = Sequential()\n",
    "model.add(Dense(30, input_shape=(30,), activation='relu'))\n",
    "model.add(Dropout(0.2))\n",
    "model.add(Dense(20, input_shape=(30,), activation='relu'))\n",
    "model.add(Dropout(0.2))\n",
    "model.add(Dense(30, input_shape=(30,), activation='relu'))\n",
    "model.add(Dropout(0.2))\n",
    "model.add(Dense(10, input_shape=(30,), activation='relu'))\n",
    "model.add(Dropout(0.2))\n",
    "model.add(Dense(1, activation='sigmoid'))\n",
    "# Compile model\n",
    "model.compile(loss='binary_crossentropy', optimizer='adam', metrics=['accuracy'])"
   ],
   "metadata": {
    "collapsed": false,
    "pycharm": {
     "name": "#%%\n"
    }
   }
  },
  {
   "cell_type": "code",
   "execution_count": 94,
   "outputs": [
    {
     "name": "stdout",
     "output_type": "stream",
     "text": [
      "{0.0: 0.8507922535211268, 1.0: 1.21267252195734}\n",
      "Epoch 1/100\n",
      "152/152 [==============================] - 0s 1ms/step - loss: 0.6933 - accuracy: 0.5302\n",
      "Epoch 2/100\n",
      "152/152 [==============================] - 0s 865us/step - loss: 0.6932 - accuracy: 0.5193\n",
      "Epoch 3/100\n",
      "152/152 [==============================] - 0s 908us/step - loss: 0.6931 - accuracy: 0.5876\n",
      "Epoch 4/100\n",
      "152/152 [==============================] - 0s 968us/step - loss: 0.6932 - accuracy: 0.4292\n",
      "Epoch 5/100\n",
      "152/152 [==============================] - 0s 908us/step - loss: 0.6952 - accuracy: 0.4124\n",
      "Epoch 6/100\n",
      "152/152 [==============================] - 0s 866us/step - loss: 0.6935 - accuracy: 0.4123\n",
      "Epoch 7/100\n",
      "152/152 [==============================] - 0s 762us/step - loss: 0.7875 - accuracy: 0.4123\n",
      "Epoch 8/100\n",
      "152/152 [==============================] - 0s 864us/step - loss: 0.6960 - accuracy: 0.4123\n",
      "Epoch 9/100\n",
      "152/152 [==============================] - 0s 1ms/step - loss: 0.6932 - accuracy: 0.4124\n",
      "Epoch 10/100\n",
      "152/152 [==============================] - 0s 865us/step - loss: 0.6931 - accuracy: 0.4124\n",
      "Epoch 11/100\n",
      "152/152 [==============================] - 0s 763us/step - loss: 0.6931 - accuracy: 0.5063\n",
      "Epoch 12/100\n",
      "152/152 [==============================] - 0s 762us/step - loss: 0.6934 - accuracy: 0.5625\n",
      "Epoch 13/100\n",
      "152/152 [==============================] - 0s 865us/step - loss: 0.6932 - accuracy: 0.5877\n",
      "Epoch 14/100\n",
      "152/152 [==============================] - 0s 1ms/step - loss: 0.6932 - accuracy: 0.4659\n",
      "Epoch 15/100\n",
      "152/152 [==============================] - 0s 1ms/step - loss: 0.6932 - accuracy: 0.5559\n",
      "Epoch 16/100\n",
      "152/152 [==============================] - 0s 805us/step - loss: 0.6934 - accuracy: 0.4122\n",
      "Epoch 17/100\n",
      "152/152 [==============================] - 0s 969us/step - loss: 0.6932 - accuracy: 0.4123\n",
      "Epoch 18/100\n",
      "152/152 [==============================] - 0s 908us/step - loss: 0.6932 - accuracy: 0.4122\n",
      "Epoch 19/100\n",
      "152/152 [==============================] - 0s 763us/step - loss: 0.6932 - accuracy: 0.4122\n",
      "Epoch 20/100\n",
      "152/152 [==============================] - 0s 763us/step - loss: 0.6936 - accuracy: 0.5180\n",
      "Epoch 21/100\n",
      "152/152 [==============================] - 0s 762us/step - loss: 0.6932 - accuracy: 0.5226\n",
      "Epoch 22/100\n",
      "152/152 [==============================] - 0s 770us/step - loss: 0.6934 - accuracy: 0.5268\n",
      "Epoch 23/100\n",
      "152/152 [==============================] - 0s 898us/step - loss: 0.6932 - accuracy: 0.4790\n",
      "Epoch 24/100\n",
      "152/152 [==============================] - 0s 969us/step - loss: 0.6931 - accuracy: 0.4124\n",
      "Epoch 25/100\n",
      "152/152 [==============================] - 0s 865us/step - loss: 0.6932 - accuracy: 0.5693\n",
      "Epoch 26/100\n",
      "152/152 [==============================] - 0s 805us/step - loss: 0.6962 - accuracy: 0.4690\n",
      "Epoch 27/100\n",
      "152/152 [==============================] - 0s 763us/step - loss: 0.6933 - accuracy: 0.5876\n",
      "Epoch 28/100\n",
      "152/152 [==============================] - 0s 763us/step - loss: 0.6931 - accuracy: 0.5877\n",
      "Epoch 29/100\n",
      "152/152 [==============================] - 0s 660us/step - loss: 0.6932 - accuracy: 0.5877\n",
      "Epoch 30/100\n",
      "152/152 [==============================] - 0s 660us/step - loss: 0.6932 - accuracy: 0.5876\n",
      "Epoch 31/100\n",
      "152/152 [==============================] - 0s 763us/step - loss: 0.6932 - accuracy: 0.5877\n",
      "Epoch 32/100\n",
      "152/152 [==============================] - 0s 806us/step - loss: 0.6932 - accuracy: 0.5877\n",
      "Epoch 33/100\n",
      "152/152 [==============================] - 0s 763us/step - loss: 0.6931 - accuracy: 0.5737\n",
      "Epoch 34/100\n",
      "152/152 [==============================] - 0s 660us/step - loss: 0.6932 - accuracy: 0.4123\n",
      "Epoch 35/100\n",
      "152/152 [==============================] - 0s 660us/step - loss: 0.6932 - accuracy: 0.4123\n",
      "Epoch 36/100\n",
      "152/152 [==============================] - 0s 660us/step - loss: 0.6931 - accuracy: 0.5065\n",
      "Epoch 37/100\n",
      "152/152 [==============================] - 0s 763us/step - loss: 0.6932 - accuracy: 0.4122\n",
      "Epoch 38/100\n",
      "152/152 [==============================] - 0s 763us/step - loss: 0.6932 - accuracy: 0.4124\n",
      "Epoch 39/100\n",
      "152/152 [==============================] - 0s 771us/step - loss: 0.6931 - accuracy: 0.5874\n",
      "Epoch 40/100\n",
      "152/152 [==============================] - 0s 763us/step - loss: 0.6931 - accuracy: 0.5878\n",
      "Epoch 41/100\n",
      "152/152 [==============================] - 0s 762us/step - loss: 0.6960 - accuracy: 0.5876\n",
      "Epoch 42/100\n",
      "152/152 [==============================] - 0s 762us/step - loss: 0.6932 - accuracy: 0.4378\n",
      "Epoch 43/100\n",
      "152/152 [==============================] - 0s 763us/step - loss: 0.6932 - accuracy: 0.5877\n",
      "Epoch 44/100\n",
      "152/152 [==============================] - 0s 763us/step - loss: 0.6932 - accuracy: 0.4148\n",
      "Epoch 45/100\n",
      "152/152 [==============================] - 0s 1ms/step - loss: 0.6932 - accuracy: 0.4251\n",
      "Epoch 46/100\n",
      "152/152 [==============================] - 0s 1ms/step - loss: 0.6932 - accuracy: 0.4337\n",
      "Epoch 47/100\n",
      "152/152 [==============================] - 0s 763us/step - loss: 0.6932 - accuracy: 0.5877\n",
      "Epoch 48/100\n",
      "152/152 [==============================] - 0s 865us/step - loss: 0.6931 - accuracy: 0.5877\n",
      "Epoch 49/100\n",
      "152/152 [==============================] - 0s 1ms/step - loss: 0.6932 - accuracy: 0.5877\n",
      "Epoch 50/100\n",
      "152/152 [==============================] - 0s 865us/step - loss: 0.6932 - accuracy: 0.5877\n",
      "Epoch 51/100\n",
      "152/152 [==============================] - 0s 762us/step - loss: 0.6932 - accuracy: 0.5111\n",
      "Epoch 52/100\n",
      "152/152 [==============================] - 0s 762us/step - loss: 0.6932 - accuracy: 0.5877\n",
      "Epoch 53/100\n",
      "152/152 [==============================] - 0s 702us/step - loss: 0.6932 - accuracy: 0.4136\n",
      "Epoch 54/100\n",
      "152/152 [==============================] - 0s 660us/step - loss: 0.6932 - accuracy: 0.4123\n",
      "Epoch 55/100\n",
      "152/152 [==============================] - 0s 761us/step - loss: 0.6932 - accuracy: 0.4854\n",
      "Epoch 56/100\n",
      "152/152 [==============================] - 0s 660us/step - loss: 0.6932 - accuracy: 0.4123\n",
      "Epoch 57/100\n",
      "152/152 [==============================] - 0s 865us/step - loss: 0.6932 - accuracy: 0.4690\n",
      "Epoch 58/100\n",
      "152/152 [==============================] - 0s 805us/step - loss: 0.6931 - accuracy: 0.4998\n",
      "Epoch 59/100\n",
      "152/152 [==============================] - 0s 660us/step - loss: 0.6931 - accuracy: 0.5350\n",
      "Epoch 60/100\n",
      "152/152 [==============================] - 0s 763us/step - loss: 0.6932 - accuracy: 0.5291\n",
      "Epoch 61/100\n",
      "152/152 [==============================] - 0s 660us/step - loss: 0.6932 - accuracy: 0.5877\n",
      "Epoch 62/100\n",
      "152/152 [==============================] - 0s 762us/step - loss: 0.6932 - accuracy: 0.5877\n",
      "Epoch 63/100\n",
      "152/152 [==============================] - 0s 762us/step - loss: 0.6978 - accuracy: 0.5877\n",
      "Epoch 64/100\n",
      "152/152 [==============================] - 0s 763us/step - loss: 0.6955 - accuracy: 0.5877\n",
      "Epoch 65/100\n",
      "152/152 [==============================] - 0s 805us/step - loss: 0.6932 - accuracy: 0.5877\n",
      "Epoch 66/100\n",
      "152/152 [==============================] - 0s 660us/step - loss: 0.6932 - accuracy: 0.5877\n",
      "Epoch 67/100\n",
      "152/152 [==============================] - 0s 660us/step - loss: 0.6931 - accuracy: 0.4570\n",
      "Epoch 68/100\n",
      "152/152 [==============================] - 0s 660us/step - loss: 0.6932 - accuracy: 0.4123\n",
      "Epoch 69/100\n",
      "152/152 [==============================] - 0s 771us/step - loss: 0.6932 - accuracy: 0.5813\n",
      "Epoch 70/100\n",
      "152/152 [==============================] - 0s 753us/step - loss: 0.6934 - accuracy: 0.4153\n",
      "Epoch 71/100\n",
      "152/152 [==============================] - 0s 762us/step - loss: 0.6932 - accuracy: 0.4123\n",
      "Epoch 72/100\n",
      "152/152 [==============================] - 0s 771us/step - loss: 0.6931 - accuracy: 0.4495\n",
      "Epoch 73/100\n",
      "152/152 [==============================] - 0s 660us/step - loss: 0.6931 - accuracy: 0.5832\n",
      "Epoch 74/100\n",
      "152/152 [==============================] - 0s 763us/step - loss: 0.6967 - accuracy: 0.5876\n",
      "Epoch 75/100\n",
      "152/152 [==============================] - 0s 762us/step - loss: 0.6931 - accuracy: 0.4356\n",
      "Epoch 76/100\n",
      "152/152 [==============================] - 0s 762us/step - loss: 0.6932 - accuracy: 0.4560\n",
      "Epoch 77/100\n",
      "152/152 [==============================] - 0s 762us/step - loss: 0.6931 - accuracy: 0.4783\n",
      "Epoch 78/100\n",
      "152/152 [==============================] - 0s 660us/step - loss: 0.6954 - accuracy: 0.5639\n",
      "Epoch 79/100\n",
      "152/152 [==============================] - 0s 660us/step - loss: 0.6949 - accuracy: 0.4193\n",
      "Epoch 80/100\n",
      "152/152 [==============================] - 0s 805us/step - loss: 0.6934 - accuracy: 0.4123\n",
      "Epoch 81/100\n",
      "152/152 [==============================] - 0s 660us/step - loss: 0.6932 - accuracy: 0.4122\n",
      "Epoch 82/100\n",
      "152/152 [==============================] - 0s 660us/step - loss: 0.6932 - accuracy: 0.4123\n",
      "Epoch 83/100\n",
      "152/152 [==============================] - 0s 763us/step - loss: 0.6932 - accuracy: 0.4123\n",
      "Epoch 84/100\n",
      "152/152 [==============================] - 0s 763us/step - loss: 0.6996 - accuracy: 0.4122\n",
      "Epoch 85/100\n",
      "152/152 [==============================] - 0s 762us/step - loss: 0.6932 - accuracy: 0.4123\n",
      "Epoch 86/100\n",
      "152/152 [==============================] - 0s 762us/step - loss: 0.6931 - accuracy: 0.4122\n",
      "Epoch 87/100\n",
      "152/152 [==============================] - 0s 660us/step - loss: 0.7024 - accuracy: 0.4124\n",
      "Epoch 88/100\n",
      "152/152 [==============================] - 0s 805us/step - loss: 0.6933 - accuracy: 0.4123\n",
      "Epoch 89/100\n",
      "152/152 [==============================] - 0s 660us/step - loss: 0.6932 - accuracy: 0.4123\n",
      "Epoch 90/100\n",
      "152/152 [==============================] - 0s 761us/step - loss: 0.6932 - accuracy: 0.4123\n",
      "Epoch 91/100\n",
      "152/152 [==============================] - 0s 763us/step - loss: 0.6931 - accuracy: 0.4123\n",
      "Epoch 92/100\n",
      "152/152 [==============================] - 0s 763us/step - loss: 0.6932 - accuracy: 0.4122\n",
      "Epoch 93/100\n",
      "152/152 [==============================] - 0s 660us/step - loss: 0.6941 - accuracy: 0.4122\n",
      "Epoch 94/100\n",
      "152/152 [==============================] - 0s 759us/step - loss: 0.6931 - accuracy: 0.4123\n",
      "Epoch 95/100\n",
      "152/152 [==============================] - 0s 762us/step - loss: 0.6932 - accuracy: 0.4485\n",
      "Epoch 96/100\n",
      "152/152 [==============================] - 0s 763us/step - loss: 0.6932 - accuracy: 0.4123\n",
      "Epoch 97/100\n",
      "152/152 [==============================] - 0s 660us/step - loss: 0.6932 - accuracy: 0.4882\n",
      "Epoch 98/100\n",
      "152/152 [==============================] - 0s 763us/step - loss: 0.6931 - accuracy: 0.4300\n",
      "Epoch 99/100\n",
      "152/152 [==============================] - 0s 763us/step - loss: 0.6931 - accuracy: 0.4122\n",
      "Epoch 100/100\n",
      "152/152 [==============================] - 0s 660us/step - loss: 0.6971 - accuracy: 0.4175\n"
     ]
    },
    {
     "data": {
      "text/plain": "<tensorflow.python.keras.callbacks.History at 0x1fcaabc6040>"
     },
     "execution_count": 94,
     "metadata": {},
     "output_type": "execute_result"
    }
   ],
   "source": [
    "class_weights = compute_class_weight(\n",
    "                                        class_weight = \"balanced\",\n",
    "                                        classes = np.unique(y_train),\n",
    "                                        y = y_train\n",
    "                                    )\n",
    "class_weights = dict(zip(np.unique(y_train), class_weights))\n",
    "\n",
    "print(class_weights)\n",
    "\n",
    "model.fit(X_train, y_train, epochs=100, batch_size=64, shuffle=True, class_weight=class_weights)"
   ],
   "metadata": {
    "collapsed": false,
    "pycharm": {
     "name": "#%%\n"
    }
   }
  },
  {
   "cell_type": "markdown",
   "source": [
    "## Evaluation of NN model"
   ],
   "metadata": {
    "collapsed": false,
    "pycharm": {
     "name": "#%% md\n"
    }
   }
  },
  {
   "cell_type": "code",
   "execution_count": 95,
   "outputs": [],
   "source": [
    "predictions = model.predict(X_test)\n",
    "predictions[predictions <= 0.5] = 0.\n",
    "predictions[predictions > 0.5] = 1."
   ],
   "metadata": {
    "collapsed": false,
    "pycharm": {
     "name": "#%%\n"
    }
   }
  },
  {
   "cell_type": "code",
   "execution_count": 96,
   "outputs": [
    {
     "name": "stdout",
     "output_type": "stream",
     "text": [
      "Accuracy:  0.4105720492396814\n",
      "Precision:  1.0\n",
      "Recall:  0.4105720492396814\n",
      "false positive rate 1.0\n"
     ]
    }
   ],
   "source": [
    "print('Accuracy: ', accuracy_score(predictions, y_test))\n",
    "print('Precision: ', precision_score(predictions, y_test))\n",
    "print('Recall: ', recall_score(predictions, y_test))\n",
    "\n",
    "tn, fp, fn, tp = confusion_matrix(y_test, predictions).ravel()\n",
    "false_positive_rate = fp / (fp + tn)\n",
    "\n",
    "print('false positive rate', false_positive_rate)"
   ],
   "metadata": {
    "collapsed": false,
    "pycharm": {
     "name": "#%%\n"
    }
   }
  },
  {
   "cell_type": "code",
   "execution_count": 97,
   "outputs": [
    {
     "data": {
      "text/plain": "<Figure size 432x288 with 2 Axes>",
      "image/png": "[encoded data removed]"
     },
     "metadata": {
      "needs_background": "light"
     },
     "output_type": "display_data"
    },
    {
     "name": "stdout",
     "output_type": "stream",
     "text": [
      "Anzahl der Frauds:  1701\n"
     ]
    }
   ],
   "source": [
    "cm = confusion_matrix(y_test, predictions)\n",
    "disp = ConfusionMatrixDisplay(confusion_matrix=cm)\n",
    "disp.plot(cmap=plt.cm.Blues)\n",
    "plt.show()\n",
    "\n",
    "print('Anzahl der Frauds: ', len(y_test[y_test==1]))"
   ],
   "metadata": {
    "collapsed": false,
    "pycharm": {
     "name": "#%%\n"
    }
   }
  }
 ],
 "metadata": {
  "kernelspec": {
   "display_name": "Python 3",
   "language": "python",
   "name": "python3"
  },
  "language_info": {
   "codemirror_mode": {
    "name": "ipython",
    "version": 2
   },
   "file_extension": ".py",
   "mimetype": "text/x-python",
   "name": "python",
   "nbconvert_exporter": "python",
   "pygments_lexer": "ipython2",
   "version": "2.7.6"
  }
 },
 "nbformat": 4,
 "nbformat_minor": 0
}